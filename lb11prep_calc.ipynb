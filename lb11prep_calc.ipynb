{
 "cells": [
  {
   "cell_type": "code",
   "execution_count": 34,
   "metadata": {},
   "outputs": [],
   "source": [
    "import math\n",
    "import os\n",
    "import numpy as np\n",
    "import pandas as pd\n",
    "\n",
    "#possible Values\n",
    "Vout = 10\n",
    "# 1,1.2,1.5,1.8,2,2.2,2.7,3.3,3.9,4.3,4.7,5.1,5.6,6.2,6.8,7.5,8.2,10,12,15,18,20,22,27,33,39,43,47,51,56,68,75,82,100,120,150,180,200,220,270,330,390,430,470,510,560,680,750,820,1000,1200,1500,1800,\n",
    "availR = [1,1.2,1.5,1.8,2,2.2,2.7,3.3,3.9,4.3,4.7,5.1,5.6,6.2,6.8,7.5,8.2,10,12,15,18,20,22,27,33,39,43,47,51,56,68,75,82,100,120,150,180,200,220,270,330,390,430,470,510,560,680,750,820,1000,1200,1500,1800,2000,2200,2700,3300,3900,4300,4700,5100,5600,6200,6800,7500,8200,10000,12000,15000,18000,20000,22000,27000,33000,39000,43000,47000,51000,56000,62000,68000,75000,82000,100000,120000,150000,180000,200000,220000,270000,330000,390000,430000,470000,510000,560000,680000,750000,820000,1000000]\n",
    "availC = [2e-12,3e-12,5e-12,10e-12,15e-12,22e-12,30e-12,33e-12,47e-12,68e-12,75e-12,82e-12,100e-12,150e-12,220e-12,330e-12,470e-12,680e-12,1e-9,1.5e-9,2.2e-9,3.3e-9,4.7e-9,6.8e-9,10e-9,15e-9,22e-9,47e-9,68e-9,.1e-6,.15e-6,.22e-6,.33e-6,.47e-6,.68e-6,1e-6,2.2e-6,4.7e-6,10e-6]\n",
    "Cc1 =   None\n",
    "Cc2 =   None\n",
    "Gc0 =   1\n",
    "Wz =    None\n",
    "Wgc0 =   10000*math.pi*2\n",
    "Wi =    None\n",
    "\n",
    "#Goals#\n",
    "# V_out 10V +/-5%\n",
    "# Zero Steady state Error to a step change\n",
    "# closed loop bandwidth equal to 1/5 switching freq. = 10000\n",
    "# Open loop phase margin of 60 degrees\n"
   ]
  },
  {
   "cell_type": "code",
   "execution_count": 35,
   "metadata": {},
   "outputs": [],
   "source": [
    "#DefiningK\n",
    "desiredPM = 60\n",
    "boost = (180-(40-90))\n",
    "Kp = math.tan(boost/2+45)\n",
    "# ask will abt type 2 compensator recipe\n",
    "\n",
    "\n"
   ]
  },
  {
   "cell_type": "code",
   "execution_count": 36,
   "metadata": {},
   "outputs": [
    {
     "name": "stdout",
     "output_type": "stream",
     "text": [
      "Test #0, Rf1: 1800, Rf2: 560, Cc1: 1e-05, Cc2: 1e-05, Rcl: 1.5\n",
      "Test #1, Rf1: 2000, Rf2: 680, Cc1: 1e-05, Cc2: 1e-05, Rcl: 1.5\n",
      "Test #2, Rf1: 2200, Rf2: 750, Cc1: 1e-05, Cc2: 1e-05, Rcl: 1.5\n",
      "Test #3, Rf1: 2700, Rf2: 820, Cc1: 1e-05, Cc2: 1e-05, Rcl: 1.5\n",
      "Test #4, Rf1: 3300, Rf2: 1000, Cc1: 1e-05, Cc2: 1e-05, Rcl: 1.5\n",
      "Test #5, Rf1: 3900, Rf2: 1200, Cc1: 1e-05, Cc2: 1e-05, Rcl: 1.5\n",
      "Test #6, Rf1: 4300, Rf2: 1500, Cc1: 1e-05, Cc2: 1e-05, Rcl: 1.5\n",
      "Test #7, Rf1: 4700, Rf2: 1500, Cc1: 1e-05, Cc2: 1e-05, Rcl: 1.5\n",
      "Test #8, Rf1: 5100, Rf2: 1800, Cc1: 1e-05, Cc2: 1e-05, Rcl: 1.5\n",
      "Test #9, Rf1: 5600, Rf2: 1800, Cc1: 1e-05, Cc2: 1e-05, Rcl: 1.5\n",
      "Test #10, Rf1: 6200, Rf2: 2000, Cc1: 1e-05, Cc2: 1e-05, Rcl: 1.5\n",
      "Test #11, Rf1: 6800, Rf2: 2200, Cc1: 1e-05, Cc2: 1e-05, Rcl: 1.5\n",
      "Test #12, Rf1: 7500, Rf2: 2700, Cc1: 1e-05, Cc2: 1e-05, Rcl: 1.5\n",
      "Test #13, Rf1: 8200, Rf2: 2700, Cc1: 1e-05, Cc2: 1e-05, Rcl: 1.5\n",
      "Test #14, Rf1: 10000, Rf2: 3300, Cc1: 1e-05, Cc2: 1e-05, Rcl: 1.5\n",
      "Test #15, Rf1: 12000, Rf2: 3900, Cc1: 1e-05, Cc2: 1e-05, Rcl: 1.5\n",
      "Test #16, Rf1: 15000, Rf2: 5100, Cc1: 1e-05, Cc2: 1e-05, Rcl: 1.5\n",
      "Test #17, Rf1: 18000, Rf2: 6200, Cc1: 1e-05, Cc2: 1e-05, Rcl: 1.5\n",
      "Test #18, Rf1: 20000, Rf2: 6800, Cc1: 1e-05, Cc2: 1e-05, Rcl: 1.5\n",
      "Test #19, Rf1: 22000, Rf2: 7500, Cc1: 1e-05, Cc2: 1e-05, Rcl: 1.5\n",
      "Test #20, Rf1: 27000, Rf2: 8200, Cc1: 1e-05, Cc2: 1e-05, Rcl: 1.5\n",
      "Test #21, Rf1: 33000, Rf2: 10000, Cc1: 1e-05, Cc2: 1e-05, Rcl: 1.5\n",
      "Test #22, Rf1: 39000, Rf2: 12000, Cc1: 1e-05, Cc2: 1e-05, Rcl: 1.5\n",
      "Test #23, Rf1: 43000, Rf2: 15000, Cc1: 1e-05, Cc2: 1e-05, Rcl: 1.5\n",
      "Test #24, Rf1: 47000, Rf2: 15000, Cc1: 1e-05, Cc2: 1e-05, Rcl: 1.5\n",
      "Test #25, Rf1: 51000, Rf2: 18000, Cc1: 1e-05, Cc2: 1e-05, Rcl: 1.5\n",
      "Test #26, Rf1: 56000, Rf2: 18000, Cc1: 1e-05, Cc2: 1e-05, Rcl: 1.5\n",
      "Test #27, Rf1: 62000, Rf2: 20000, Cc1: 1e-05, Cc2: 1e-05, Rcl: 1.5\n",
      "Test #28, Rf1: 68000, Rf2: 22000, Cc1: 1e-05, Cc2: 1e-05, Rcl: 1.5\n",
      "Test #29, Rf1: 75000, Rf2: 27000, Cc1: 1e-05, Cc2: 1e-05, Rcl: 1.5\n",
      "Test #30, Rf1: 82000, Rf2: 27000, Cc1: 1e-05, Cc2: 1e-05, Rcl: 1.5\n",
      "Test #31, Rf1: 100000, Rf2: 33000, Cc1: 1e-05, Cc2: 1e-05, Rcl: 1.5\n",
      "Test #32, Rf1: 120000, Rf2: 39000, Cc1: 1e-05, Cc2: 1e-05, Rcl: 1.5\n",
      "Test #33, Rf1: 150000, Rf2: 51000, Cc1: 4.7e-06, Cc2: 1e-05, Rcl: 2.2\n",
      "Test #34, Rf1: 180000, Rf2: 62000, Cc1: 4.7e-06, Cc2: 1e-05, Rcl: 2.2\n",
      "Test #35, Rf1: 200000, Rf2: 68000, Cc1: 4.7e-06, Cc2: 1e-05, Rcl: 2.2\n",
      "Test #36, Rf1: 220000, Rf2: 75000, Cc1: 4.7e-06, Cc2: 1e-05, Rcl: 2.2\n",
      "Test #37, Rf1: 270000, Rf2: 82000, Cc1: 4.7e-06, Cc2: 1e-05, Rcl: 2.2\n",
      "Test #38, Rf1: 330000, Rf2: 100000, Cc1: 2.2e-06, Cc2: 1e-05, Rcl: 3.3\n",
      "Test #39, Rf1: 390000, Rf2: 120000, Cc1: 2.2e-06, Cc2: 1e-05, Rcl: 3.3\n",
      "Test #40, Rf1: 430000, Rf2: 150000, Cc1: 2.2e-06, Cc2: 1e-05, Rcl: 3.3\n",
      "Test #41, Rf1: 470000, Rf2: 150000, Cc1: 2.2e-06, Cc2: 1e-05, Rcl: 3.3\n",
      "Test #42, Rf1: 510000, Rf2: 180000, Cc1: 2.2e-06, Cc2: 1e-05, Rcl: 3.3\n",
      "Test #43, Rf1: 560000, Rf2: 180000, Cc1: 2.2e-06, Cc2: 1e-05, Rcl: 3.3\n",
      "Test #44, Rf1: 680000, Rf2: 220000, Cc1: 1e-06, Cc2: 1e-05, Rcl: 5.1\n",
      "Test #45, Rf1: 750000, Rf2: 270000, Cc1: 1e-06, Cc2: 1e-05, Rcl: 5.1\n",
      "Test #46, Rf1: 820000, Rf2: 270000, Cc1: 1e-06, Cc2: 1e-05, Rcl: 5.1\n",
      "Test #47, Rf1: 1000000, Rf2: 330000, Cc1: 1e-06, Cc2: 1e-05, Rcl: 5.1\n"
     ]
    }
   ],
   "source": [
    "#1 solve for Cc1\n",
    "for count,value in enumerate(availR[52:]):\n",
    "    Rf1 = value\n",
    "    Cc1 = 1 / (Gc0*Rf1)\n",
    "    Cc1 = availC[min(range(len(availC)), key=lambda i: abs(availC[i]-Cc1))]\n",
    "    Cc2 = Cc1/Kp**2\n",
    "    Cc2 = availC[min(range(len(availC)), key=lambda i: abs(availC[i]-Cc2))]\n",
    "    Rcl = 1/(Wgc0*(Cc1*Cc2)**(1/2))\n",
    "    Rcl = availR[min(range(len(availR)), key=lambda i: abs(availR[i]-Rcl))]\n",
    "    Rf2 = Rf1*2.5/(Vout-2.5)\n",
    "    Rf2 = availR[min(range(len(availR)), key=lambda i: abs(availR[i]-Rf2))]\n",
    "    print(f\"Test #{count}, Rf1: {Rf1}, Rf2: {Rf2}, Cc1: {Cc1}, Cc2: {Cc2}, Rcl: {Rcl}\")"
   ]
  }
 ],
 "metadata": {
  "interpreter": {
   "hash": "24f4093ac813fd2dd0ea3f8a597382d935d46427ed0d572e08986c61f07daf92"
  },
  "kernelspec": {
   "display_name": "Python 3.7.0 32-bit",
   "language": "python",
   "name": "python3"
  },
  "language_info": {
   "codemirror_mode": {
    "name": "ipython",
    "version": 3
   },
   "file_extension": ".py",
   "mimetype": "text/x-python",
   "name": "python",
   "nbconvert_exporter": "python",
   "pygments_lexer": "ipython3",
   "version": "3.7.0"
  },
  "orig_nbformat": 4
 },
 "nbformat": 4,
 "nbformat_minor": 2
}
