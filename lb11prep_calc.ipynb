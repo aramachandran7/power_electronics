{
 "cells": [
  {
   "cell_type": "code",
   "execution_count": 48,
   "metadata": {},
   "outputs": [],
   "source": [
    "import math\n",
    "import os\n",
    "import numpy as np\n",
    "import pandas as pd\n",
    "\n",
    "#possible Values\n",
    "Vout = 10\n",
    "# 1,1.2,1.5,1.8,2,2.2,2.7,3.3,3.9,4.3,4.7,5.1,5.6,6.2,6.8,7.5,8.2,10,12,15,18,20,22,27,33,39,43,47,51,56,68,75,82,100,120,150,180,200,220,270,330,390,430,470,510,560,680,750,820,1000,1200,1500,1800,\n",
    "availR = [1,1.2,1.5,1.8,2,2.2,2.7,3.3,3.9,4.3,4.7,5.1,5.6,6.2,6.8,7.5,8.2,10,12,15,18,20,22,27,33,39,43,47,51,56,68,75,82,100,120,150,180,200,220,270,330,390,430,470,510,560,680,750,820,1000,1200,1500,1800,2000,2200,2700,3300,3900,4300,4700,5100,5600,6200,6800,7500,8200,10000,12000,15000,18000,20000,22000,27000,33000,39000,43000,47000,51000,56000,62000,68000,75000,82000,100000,120000,150000,180000,200000,220000,270000,330000,390000,430000,470000,510000,560000,680000,750000,820000,1000000]\n",
    "availC = [2e-12,3e-12,5e-12,10e-12,15e-12,22e-12,30e-12,33e-12,47e-12,68e-12,75e-12,82e-12,100e-12,150e-12,220e-12,330e-12,470e-12,680e-12,1e-9,1.5e-9,2.2e-9,3.3e-9,4.7e-9,6.8e-9,10e-9,15e-9,22e-9,47e-9,68e-9,.1e-6,.15e-6,.22e-6,.33e-6,.47e-6,.68e-6,1e-6,2.2e-6,4.7e-6,10e-6]\n",
    "Cc1 =   None\n",
    "Cc2 =   None\n",
    "Wz =    None\n",
    "Wgc0 =   6000*math.pi*2\n",
    "Wi =    None\n",
    "# Gc0 = K*wi*math.sqrt((1+k**2)/1+k**(-2))\n",
    "#Goals#\n",
    "# V_out 10V +/-5%\n",
    "# Zero Steady state Error to a step change\n",
    "# closed loop bandwidth equal to 1/5 switching freq. = 10000\n",
    "# Open loop phase margin of 60 degrees\n"
   ]
  },
  {
   "cell_type": "code",
   "execution_count": 49,
   "metadata": {},
   "outputs": [
    {
     "name": "stdout",
     "output_type": "stream",
     "text": [
      "K:3.522190218344454, boost: 58.30000000000001, Gc0: 3382.2475800333013\n"
     ]
    }
   ],
   "source": [
    "#DefiningK\n",
    "desiredPM = 60\n",
    "boost = desiredPM - (180+(-88.3-90))\n",
    "K = math.tan((boost/2+45)*math.pi/180)\n",
    "# ask will abt type 2 compensator recipe\n",
    "Gc0 = .316*Wgc0*math.sqrt((1+K**(-2))/(1+K**(2)))# desired system dc gain, in mag #5000\n",
    "print(f\"K:{K}, boost: {boost}, Gc0: {Gc0}\")\n"
   ]
  },
  {
   "cell_type": "code",
   "execution_count": 52,
   "metadata": {},
   "outputs": [
    {
     "name": "stdout",
     "output_type": "stream",
     "text": [
      "Test #0: \tNew K: 3.8729833462074166,\tRf1: 1800,\tRf2: 560,\tCc1: 1.5e-07,\tCc2: 1e-08,\tRcl: 680\n",
      "Test #1: \tNew K: 3.8729833462074166,\tRf1: 2000,\tRf2: 680,\tCc1: 1.5e-07,\tCc2: 1e-08,\tRcl: 680\n",
      "Test #2: \tNew K: 3.8729833462074166,\tRf1: 2200,\tRf2: 750,\tCc1: 1.5e-07,\tCc2: 1e-08,\tRcl: 680\n",
      "Test #3: \tNew K: 3.834824944236852,\tRf1: 2700,\tRf2: 820,\tCc1: 1e-07,\tCc2: 6.8e-09,\tRcl: 1000\n",
      "Test #4: \tNew K: 3.834824944236852,\tRf1: 3300,\tRf2: 1000,\tCc1: 1e-07,\tCc2: 6.8e-09,\tRcl: 1000\n",
      "Test #5: \tNew K: 3.8036936136317525,\tRf1: 3900,\tRf2: 1200,\tCc1: 6.8e-08,\tCc2: 4.7e-09,\tRcl: 1500\n",
      "Test #6: \tNew K: 3.8036936136317525,\tRf1: 4300,\tRf2: 1500,\tCc1: 6.8e-08,\tCc2: 4.7e-09,\tRcl: 1500\n",
      "Test #7: \tNew K: 3.8036936136317525,\tRf1: 4700,\tRf2: 1500,\tCc1: 6.8e-08,\tCc2: 4.7e-09,\tRcl: 1500\n",
      "Test #8: \tNew K: 3.8036936136317525,\tRf1: 5100,\tRf2: 1800,\tCc1: 6.8e-08,\tCc2: 4.7e-09,\tRcl: 1500\n",
      "Test #9: \tNew K: 3.773913650631694,\tRf1: 5600,\tRf2: 1800,\tCc1: 4.7e-08,\tCc2: 3.3e-09,\tRcl: 2200\n",
      "Test #10: \tNew K: 3.773913650631694,\tRf1: 6200,\tRf2: 2000,\tCc1: 4.7e-08,\tCc2: 3.3e-09,\tRcl: 2200\n",
      "Test #11: \tNew K: 3.773913650631694,\tRf1: 6800,\tRf2: 2200,\tCc1: 4.7e-08,\tCc2: 3.3e-09,\tRcl: 2200\n",
      "Test #12: \tNew K: 3.773913650631694,\tRf1: 7500,\tRf2: 2700,\tCc1: 4.7e-08,\tCc2: 3.3e-09,\tRcl: 2200\n",
      "Test #13: \tNew K: 3.773913650631694,\tRf1: 8200,\tRf2: 2700,\tCc1: 4.7e-08,\tCc2: 3.3e-09,\tRcl: 2200\n",
      "Test #14: \tNew K: 3.8297084310253524,\tRf1: 10000,\tRf2: 3300,\tCc1: 2.2e-08,\tCc2: 1.5e-09,\tRcl: 4700\n",
      "Test #15: \tNew K: 3.8297084310253524,\tRf1: 12000,\tRf2: 3900,\tCc1: 2.2e-08,\tCc2: 1.5e-09,\tRcl: 4700\n",
      "Test #16: \tNew K: 3.8297084310253524,\tRf1: 15000,\tRf2: 5100,\tCc1: 2.2e-08,\tCc2: 1.5e-09,\tRcl: 4700\n",
      "Test #17: \tNew K: 3.8729833462074166,\tRf1: 18000,\tRf2: 6200,\tCc1: 1.5e-08,\tCc2: 1e-09,\tRcl: 6800\n",
      "Test #18: \tNew K: 3.8729833462074166,\tRf1: 20000,\tRf2: 6800,\tCc1: 1.5e-08,\tCc2: 1e-09,\tRcl: 6800\n",
      "Test #19: \tNew K: 3.8729833462074166,\tRf1: 22000,\tRf2: 7500,\tCc1: 1.5e-08,\tCc2: 1e-09,\tRcl: 6800\n",
      "Test #20: \tNew K: 3.834824944236852,\tRf1: 27000,\tRf2: 8200,\tCc1: 1e-08,\tCc2: 6.8e-10,\tRcl: 10000\n",
      "Test #21: \tNew K: 3.834824944236852,\tRf1: 33000,\tRf2: 10000,\tCc1: 1e-08,\tCc2: 6.8e-10,\tRcl: 10000\n",
      "Test #22: \tNew K: 3.803693613631752,\tRf1: 39000,\tRf2: 12000,\tCc1: 6.8e-09,\tCc2: 4.7e-10,\tRcl: 15000\n",
      "Test #23: \tNew K: 3.803693613631752,\tRf1: 43000,\tRf2: 15000,\tCc1: 6.8e-09,\tCc2: 4.7e-10,\tRcl: 15000\n",
      "Test #24: \tNew K: 3.803693613631752,\tRf1: 47000,\tRf2: 15000,\tCc1: 6.8e-09,\tCc2: 4.7e-10,\tRcl: 15000\n",
      "Test #25: \tNew K: 3.803693613631752,\tRf1: 51000,\tRf2: 18000,\tCc1: 6.8e-09,\tCc2: 4.7e-10,\tRcl: 15000\n",
      "Test #26: \tNew K: 3.773913650631694,\tRf1: 56000,\tRf2: 18000,\tCc1: 4.7e-09,\tCc2: 3.3e-10,\tRcl: 22000\n",
      "Test #27: \tNew K: 3.773913650631694,\tRf1: 62000,\tRf2: 20000,\tCc1: 4.7e-09,\tCc2: 3.3e-10,\tRcl: 22000\n",
      "Test #28: \tNew K: 3.773913650631694,\tRf1: 68000,\tRf2: 22000,\tCc1: 4.7e-09,\tCc2: 3.3e-10,\tRcl: 22000\n",
      "Test #29: \tNew K: 3.872983346207417,\tRf1: 75000,\tRf2: 27000,\tCc1: 3.3e-09,\tCc2: 2.2e-10,\tRcl: 33000\n",
      "Test #30: \tNew K: 3.872983346207417,\tRf1: 82000,\tRf2: 27000,\tCc1: 3.3e-09,\tCc2: 2.2e-10,\tRcl: 33000\n",
      "Test #31: \tNew K: 3.872983346207417,\tRf1: 100000,\tRf2: 33000,\tCc1: 3.3e-09,\tCc2: 2.2e-10,\tRcl: 33000\n",
      "Test #32: \tNew K: 3.8297084310253524,\tRf1: 120000,\tRf2: 39000,\tCc1: 2.2e-09,\tCc2: 1.5e-10,\tRcl: 47000\n",
      "Test #33: \tNew K: 3.8297084310253524,\tRf1: 150000,\tRf2: 51000,\tCc1: 2.2e-09,\tCc2: 1.5e-10,\tRcl: 47000\n",
      "Test #34: \tNew K: 3.872983346207417,\tRf1: 180000,\tRf2: 62000,\tCc1: 1.5e-09,\tCc2: 1e-10,\tRcl: 68000\n",
      "Test #35: \tNew K: 3.872983346207417,\tRf1: 200000,\tRf2: 68000,\tCc1: 1.5e-09,\tCc2: 1e-10,\tRcl: 68000\n",
      "Test #36: \tNew K: 3.872983346207417,\tRf1: 220000,\tRf2: 75000,\tCc1: 1.5e-09,\tCc2: 1e-10,\tRcl: 68000\n",
      "Test #37: \tNew K: 3.492151478847891,\tRf1: 270000,\tRf2: 82000,\tCc1: 1e-09,\tCc2: 8.2e-11,\tRcl: 100000\n",
      "Test #38: \tNew K: 3.492151478847891,\tRf1: 330000,\tRf2: 100000,\tCc1: 1e-09,\tCc2: 8.2e-11,\tRcl: 100000\n",
      "Test #39: \tNew K: 3.8036936136317525,\tRf1: 390000,\tRf2: 120000,\tCc1: 6.8e-10,\tCc2: 4.7e-11,\tRcl: 150000\n",
      "Test #40: \tNew K: 3.8036936136317525,\tRf1: 430000,\tRf2: 150000,\tCc1: 6.8e-10,\tCc2: 4.7e-11,\tRcl: 150000\n",
      "Test #41: \tNew K: 3.8036936136317525,\tRf1: 470000,\tRf2: 150000,\tCc1: 6.8e-10,\tCc2: 4.7e-11,\tRcl: 150000\n",
      "Test #42: \tNew K: 3.8036936136317525,\tRf1: 510000,\tRf2: 180000,\tCc1: 6.8e-10,\tCc2: 4.7e-11,\tRcl: 150000\n",
      "Test #43: \tNew K: 3.773913650631694,\tRf1: 560000,\tRf2: 180000,\tCc1: 4.7e-10,\tCc2: 3.3e-11,\tRcl: 220000\n",
      "Test #44: \tNew K: 3.773913650631694,\tRf1: 680000,\tRf2: 220000,\tCc1: 4.7e-10,\tCc2: 3.3e-11,\tRcl: 220000\n",
      "Test #45: \tNew K: 3.3166247903554,\tRf1: 750000,\tRf2: 270000,\tCc1: 3.3e-10,\tCc2: 3e-11,\tRcl: 270000\n",
      "Test #46: \tNew K: 3.3166247903554,\tRf1: 820000,\tRf2: 270000,\tCc1: 3.3e-10,\tCc2: 3e-11,\tRcl: 270000\n",
      "Test #47: \tNew K: 3.3166247903554,\tRf1: 1000000,\tRf2: 330000,\tCc1: 3.3e-10,\tCc2: 3e-11,\tRcl: 270000\n"
     ]
    }
   ],
   "source": [
    "#1 solve for Cc1\n",
    "for count,value in enumerate(availR[52:]):\n",
    "    Rf1 = value\n",
    "    Cc1 = 1 / (Gc0*Rf1)\n",
    "    Cc1 = availC[min(range(len(availC)), key=lambda i: abs(availC[i]-Cc1))]\n",
    "    Cc2 = Cc1/K**2\n",
    "    Cc2 = availC[min(range(len(availC)), key=lambda i: abs(availC[i]-Cc2))]\n",
    "    newK = math.sqrt(Cc1/Cc2)\n",
    "    Rcl = 1/(Wgc0*(Cc1*Cc2)**(1/2))\n",
    "    Rcl = availR[min(range(len(availR)), key=lambda i: abs(availR[i]-Rcl))]\n",
    "    Rf2 = Rf1*2.5/(Vout-2.5)\n",
    "    Rf2 = availR[min(range(len(availR)), key=lambda i: abs(availR[i]-Rf2))]\n",
    "    W_p = 1/(Rcl*Cc2)\n",
    "    W_z = 1/(Rcl*Cc1)\n",
    "    # print(f\"Wp: {W_z},Wz:{W_p}\")\n",
    "    print(f\"Test #{count}: \\tNew K: {newK},\\tRf1: {Rf1},\\tRf2: {Rf2},\\tCc1: {Cc1},\\tCc2: {Cc2},\\tRcl: {Rcl}\")"
   ]
  },
  {
   "cell_type": "code",
   "execution_count": null,
   "metadata": {},
   "outputs": [],
   "source": []
  }
 ],
 "metadata": {
  "interpreter": {
   "hash": "24f4093ac813fd2dd0ea3f8a597382d935d46427ed0d572e08986c61f07daf92"
  },
  "kernelspec": {
   "display_name": "Python 3.7.0 32-bit",
   "language": "python",
   "name": "python3"
  },
  "language_info": {
   "codemirror_mode": {
    "name": "ipython",
    "version": 3
   },
   "file_extension": ".py",
   "mimetype": "text/x-python",
   "name": "python",
   "nbconvert_exporter": "python",
   "pygments_lexer": "ipython3",
   "version": "3.7.4"
  },
  "orig_nbformat": 4
 },
 "nbformat": 4,
 "nbformat_minor": 2
}
